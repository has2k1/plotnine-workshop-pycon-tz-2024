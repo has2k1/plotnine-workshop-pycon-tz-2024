{
 "cells": [
  {
   "cell_type": "markdown",
   "id": "ff30b1dd-ef5b-4ea9-b17f-1051c47d4af2",
   "metadata": {},
   "source": [
    "# Exercises"
   ]
  },
  {
   "cell_type": "markdown",
   "id": "cb89287d-05a5-4543-92ca-da0f69dd1e32",
   "metadata": {},
   "source": [
    "## Useful links\n",
    "\n",
    "1. [API Reference](https://plotnine.org/reference)\n",
    "2. [gallery](https://plotnine.org/gallery/)\n",
    "3. [tutorials](https://plotnine.org/gallery/)\n",
    "\n",
    "Grab the data and functions from the `tutorial` notebook."
   ]
  },
  {
   "cell_type": "code",
   "execution_count": 1,
   "id": "7ec63136-8355-4b04-9ffc-e11e509c4619",
   "metadata": {},
   "outputs": [],
   "source": [
    "from plotnine import *\n",
    "import pandas as pd\n",
    "import numpy as np\n",
    "\n",
    "def group_top(data, group, column, n):\n",
    "    \"\"\"\n",
    "    Select the top n rows from each group in a dataframe based on a specified column\n",
    "    \"\"\"\n",
    "    def top_n(gdf):\n",
    "        return gdf.sort_values(column, ascending=False).head(n)\n",
    "    return (\n",
    "        data.groupby(group)\n",
    "        .apply(top_n, include_groups=False)\n",
    "        .reset_index()\n",
    "        [data.columns]\n",
    "    )\n",
    "\n",
    "def group_bottom(data, group, column, n):\n",
    "    \"\"\"\n",
    "    Select the bottom n rows from each group in a dataframe based on a specified column\n",
    "    \"\"\"\n",
    "    def bottom_n(gdf):\n",
    "        return gdf.sort_values(column, ascending=True).head(n)\n",
    "    return (\n",
    "        data.groupby(group)\n",
    "        .apply(bottom_n, include_groups=False)\n",
    "        .reset_index()\n",
    "        [data.columns]\n",
    "    )\n",
    "\n",
    "def group_multi_top(data, group, columns, n):\n",
    "    \"\"\"\n",
    "    Select the top n rows from each group in a dataframe for multiple columns\n",
    "    \"\"\"\n",
    "    frames = [group_top(data, group, col, n) for col in columns]\n",
    "    return (\n",
    "        pd.concat(frames)\n",
    "        .drop_duplicates()\n",
    "        .sort_values(by=[group, *columns])\n",
    "        .reset_index(drop=True)\n",
    "    )\n",
    "\n",
    "def group_multi_bottom(data, group, columns, n):\n",
    "    \"\"\"\n",
    "    Select the bottom n rows from each group in a dataframe for multiple columns\n",
    "    \"\"\"\n",
    "    frames = [group_bottom(data, group, col, n) for col in columns]\n",
    "    return (\n",
    "        pd.concat(frames)\n",
    "        .drop_duplicates()\n",
    "        .sort_values(by=[group, *columns])\n",
    "        .reset_index(drop=True)\n",
    "    )\n",
    "\n",
    "def group_sum(data, group, columns):\n",
    "    \"\"\"\n",
    "    Sum up all columns in a group\n",
    "    \"\"\"\n",
    "    if isinstance(group, str):\n",
    "        group = [group]\n",
    "    else:\n",
    "        group = list(group)\n",
    "    return data.groupby(group)[columns].agg(\"sum\").reset_index()\n",
    "\n",
    "def dataframe_difference(df1, df2):\n",
    "    \"\"\"\n",
    "    Remove all rows in df1 that are also in df2.\n",
    "    \"\"\"\n",
    "    # Ensure the column order and names match for comparison\n",
    "    common_columns = df1.columns.intersection(df2.columns)\n",
    "    # Convert rows to tuples and compare them\n",
    "    s1 = df1[common_columns].apply(tuple, axis=1)\n",
    "    s2 = df2[common_columns].apply(tuple, axis=1)\n",
    "    return df1.loc[~s1.isin(s2)].reset_index(drop=True)\n",
    "\n",
    "def _rename_columns(s):\n",
    "    if s.endswith(\"population\"):\n",
    "        return f\"{s.split()[0]}\"\n",
    "    return s.replace(\"(km²)\",\"\").strip().replace(\" \", \"_\")\n",
    "\n",
    "# Units\n",
    "# area - km²\n",
    "# density - /km²\n",
    "\n",
    "population_data = (\n",
    "    pd.read_csv(\"data/world_population_data.csv\")\n",
    "    .rename(_rename_columns, axis=1)\n",
    "    .drop(columns=[\"rank\"])\n",
    "    .melt(\n",
    "        id_vars=[\"country\", \"continent\", \"area\"],\n",
    "        value_vars=[\"2023\", \"2022\", \"2020\", \"2015\", \"2010\", \"2000\", \"1990\", \"1980\", \"1970\"],\n",
    "        var_name=\"year\",\n",
    "        value_name=\"population\",\n",
    "    )\n",
    "    .astype({\"year\": int})\n",
    ")\n",
    "\n",
    "def by_year(data, year):\n",
    "    \"\"\"\n",
    "    Return a subset of the data for a given year\n",
    "    \"\"\"\n",
    "    return data[data[\"year\"] == year].reset_index(drop=True)\n",
    "\n",
    "def by_continent(data, continent):\n",
    "    \"\"\"\n",
    "    Return a subset of the data for a given continent\n",
    "    \"\"\"\n",
    "    return data[data[\"continent\"] == continent].reset_index(drop=True)\n",
    "\n",
    "thousand = 10 ** 3\n",
    "million = 10 ** 6\n",
    "billion = 10 ** 9"
   ]
  },
  {
   "cell_type": "markdown",
   "id": "e9d84a58-cbf1-4a19-8b1b-e38a65daacb4",
   "metadata": {},
   "source": [
    "## Practice data\n",
    "\n",
    "When you finish any of the exercises early and you need something else, you can try visualising any of these subset dataframes. You can create subsets of them again. Have fun"
   ]
  },
  {
   "cell_type": "code",
   "execution_count": 2,
   "id": "5c492b5c-1084-470a-87e8-f6a769d75d19",
   "metadata": {},
   "outputs": [],
   "source": [
    "population_data_2023 =  by_year(population_data, 2023)\n",
    "\n",
    "africa_data = by_continent(population_data, \"Africa\")\n",
    "asia_data = by_continent(population_data, \"Asia\")\n",
    "north_america_data = by_continent(population_data, \"North America\")\n",
    "south_america_data = by_continent(population_data, \"South America\")\n",
    "europe_data = by_continent(population_data, \"Europe\")\n",
    "oceania_data = by_continent(population_data, \"Oceania\")"
   ]
  },
  {
   "cell_type": "code",
   "execution_count": null,
   "id": "249e2a97-965a-4d4e-97c4-c4e344d8463e",
   "metadata": {},
   "outputs": [],
   "source": []
  },
  {
   "cell_type": "code",
   "execution_count": null,
   "id": "ba06a1b5-ecc8-495b-85e3-56f382207019",
   "metadata": {},
   "outputs": [],
   "source": [
    " "
   ]
  },
  {
   "cell_type": "code",
   "execution_count": null,
   "id": "5be2afea-0bf9-4eca-a06e-e340ac77a3d8",
   "metadata": {},
   "outputs": [],
   "source": []
  },
  {
   "cell_type": "code",
   "execution_count": null,
   "id": "0342fb8c-5157-490c-89c8-daab50d7e127",
   "metadata": {},
   "outputs": [],
   "source": []
  },
  {
   "cell_type": "code",
   "execution_count": null,
   "id": "29f6b43c-596d-417d-9d4d-89c30bcbe983",
   "metadata": {},
   "outputs": [],
   "source": []
  },
  {
   "cell_type": "markdown",
   "id": "dd5ff2b6-668c-41de-aabe-45ba0e23b970",
   "metadata": {},
   "source": [
    "## Part 1: `continents_data`"
   ]
  },
  {
   "cell_type": "code",
   "execution_count": 3,
   "id": "3fddba08-4b4b-4578-a596-a6cd3077d1bd",
   "metadata": {},
   "outputs": [],
   "source": [
    "continents_data = group_sum(population_data, [\"continent\", \"year\"], \"population\")"
   ]
  },
  {
   "cell_type": "markdown",
   "id": "d7666564-ddc7-4f1b-bc8a-895f0b73914d",
   "metadata": {
    "jp-MarkdownHeadingCollapsed": true
   },
   "source": [
    "### Exercise 1\n",
    "\n",
    "Create a point graph of the datasets `continents_data` with the `year` on the `x` axis and the `population` on the `y` axis."
   ]
  },
  {
   "cell_type": "code",
   "execution_count": 4,
   "id": "65048d89-e765-4913-b965-ad714864d284",
   "metadata": {},
   "outputs": [],
   "source": [
    "# Your solution here\n",
    "\n"
   ]
  },
  {
   "cell_type": "markdown",
   "id": "020bfb6b-dcf8-47f7-8cd1-e64c0f794359",
   "metadata": {
    "jp-MarkdownHeadingCollapsed": true
   },
   "source": [
    "### Exercise 2\n",
    "Copy your solution from [Exercise 1](exercises.ipynb#Exercise-1) and:\n",
    "\n",
    "- Add some colour\n",
    "- Make it easy to read the big numbers\n",
    "- Make sure the axes are well labelled"
   ]
  },
  {
   "cell_type": "code",
   "execution_count": 5,
   "id": "8005ef45-841b-40a8-9b5c-6adff9d2a8ee",
   "metadata": {},
   "outputs": [],
   "source": [
    "# Your solution here\n",
    "\n"
   ]
  },
  {
   "cell_type": "markdown",
   "id": "f73c90a1-9e72-4268-997d-5b7aae09aabd",
   "metadata": {
    "jp-MarkdownHeadingCollapsed": true
   },
   "source": [
    "### Exercise 3\n",
    "Copy your solution from [Exercise 2](exercises.ipynb#Exercise-2) and create well scaled panels for each continent."
   ]
  },
  {
   "cell_type": "code",
   "execution_count": 6,
   "id": "bede29c2-d82b-448c-b55f-dd0c6986cf28",
   "metadata": {},
   "outputs": [],
   "source": [
    "# Your solution here\n",
    "\n"
   ]
  },
  {
   "cell_type": "markdown",
   "id": "0fa7d5a0-f984-46fb-8f77-6749fc5a58bf",
   "metadata": {
    "jp-MarkdownHeadingCollapsed": true
   },
   "source": [
    "### Exercise 4\n",
    "\n",
    "Copy your solution from [Exercise 3](exercises.ipynb#Exercise-3).\n",
    "- Add a line that passes through the dots. You need to find a suitable [geom](https://plotnine.org/reference/#geoms)\n",
    "- Customise the plot in your unique way.\n",
    "    * The default theme that we modify using [theme()](https://plotnine.org/reference/theme.html) is [theme_gray](https://plotnine.org/reference/theme_gray.html#gray), try using another theme. See how it is done [here](https://plotnine.org/reference/theme_classic.html#classic).\n",
    "    * While you are at it use [labs](https://plotnine.org/reference/labs.html#plotnine.labs) to add a caption to the plot"
   ]
  },
  {
   "cell_type": "code",
   "execution_count": 7,
   "id": "1a92e380-be38-4f9b-afbd-b0eb228bed58",
   "metadata": {},
   "outputs": [],
   "source": [
    "# Your solution here\n",
    "\n"
   ]
  },
  {
   "cell_type": "markdown",
   "id": "09a7b542-a4be-4834-9301-fbde1c79ee5a",
   "metadata": {},
   "source": [
    "### Exercise 5\n",
    "\n",
    "Given your solution in [Exercise 4](exercises.ipynb#Exercise-4), can you change the scale of anything else.\n",
    "Look at the the list of available scales in the [API Reference](https://plotnine.org/reference/#scales).\n"
   ]
  },
  {
   "cell_type": "code",
   "execution_count": 8,
   "id": "ce2f3e70-42f0-40ff-99a8-404801bb5742",
   "metadata": {},
   "outputs": [],
   "source": [
    "# Your solution here\n",
    "\n"
   ]
  },
  {
   "cell_type": "markdown",
   "id": "0f01cbf1-cfcd-42e2-b20e-cf2059645ae5",
   "metadata": {},
   "source": [
    "## Part 2: Mapping Tanzania"
   ]
  },
  {
   "cell_type": "markdown",
   "id": "ea78bb62-97db-4ef3-946f-ac1d5a79c924",
   "metadata": {},
   "source": [
    "### Exercise 6 - Visualise the population of regions Tanzania."
   ]
  },
  {
   "cell_type": "markdown",
   "id": "e83cd695-4e44-417c-addd-a2894b7bc8f5",
   "metadata": {},
   "source": [
    "You can draw plotnine can draw maps. In the `tz_maps` module, we prepare some data for you and import it.\n",
    "Make something of it. You can see some examples at [geom_map](https://plotnine.org/reference/geom_map.html#examples)."
   ]
  },
  {
   "cell_type": "code",
   "execution_count": 9,
   "id": "95af6108-dacc-466a-b498-791d6c9dc41d",
   "metadata": {},
   "outputs": [],
   "source": [
    "from tz_maps import (\n",
    "    # All these are geopandas dataframes\n",
    "    country,\n",
    "    zones,\n",
    "    regions,\n",
    "    districts,\n",
    "    lakes,\n",
    "    rivers,\n",
    ")"
   ]
  },
  {
   "cell_type": "markdown",
   "id": "3379e307-e173-4d98-a661-8e3b5a10b197",
   "metadata": {},
   "source": [
    "_HINT: See what each dataframe contains. You can plot a simple map with only two lines._"
   ]
  },
  {
   "cell_type": "code",
   "execution_count": null,
   "id": "66514891-5a48-4d57-a74c-762c6e4ac7d2",
   "metadata": {},
   "outputs": [],
   "source": []
  },
  {
   "cell_type": "code",
   "execution_count": null,
   "id": "0aa07f89-f1a5-4d75-85a9-94a259c253f5",
   "metadata": {},
   "outputs": [],
   "source": []
  },
  {
   "cell_type": "code",
   "execution_count": null,
   "id": "f6cf6074-6e0c-4038-8854-1760566a66da",
   "metadata": {},
   "outputs": [],
   "source": []
  },
  {
   "cell_type": "code",
   "execution_count": null,
   "id": "3253ec1c-ba74-4acf-be27-f22ff8200f8e",
   "metadata": {},
   "outputs": [],
   "source": []
  },
  {
   "cell_type": "code",
   "execution_count": null,
   "id": "d6cce371-2197-4f2d-adb5-092f38175868",
   "metadata": {},
   "outputs": [],
   "source": []
  }
 ],
 "metadata": {
  "kernelspec": {
   "display_name": "Python 3 (ipykernel)",
   "language": "python",
   "name": "python3"
  },
  "language_info": {
   "codemirror_mode": {
    "name": "ipython",
    "version": 3
   },
   "file_extension": ".py",
   "mimetype": "text/x-python",
   "name": "python",
   "nbconvert_exporter": "python",
   "pygments_lexer": "ipython3",
   "version": "3.12.6"
  }
 },
 "nbformat": 4,
 "nbformat_minor": 5
}
